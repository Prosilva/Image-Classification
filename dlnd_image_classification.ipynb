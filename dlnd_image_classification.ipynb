{
 "cells": [
  {
   "cell_type": "markdown",
   "metadata": {
    "collapsed": true
   },
   "source": [
    "# Image Classification\n",
    "In this project, you'll classify images from the [CIFAR-10 dataset](https://www.cs.toronto.edu/~kriz/cifar.html).  The dataset consists of airplanes, dogs, cats, and other objects. You'll preprocess the images, then train a convolutional neural network on all the samples. The images need to be normalized and the labels need to be one-hot encoded.  You'll get to apply what you learned and build a convolutional, max pooling, dropout, and fully connected layers.  At the end, you'll get to see your neural network's predictions on the sample images.\n",
    "## Get the Data\n",
    "Run the following cell to download the [CIFAR-10 dataset for python](https://www.cs.toronto.edu/~kriz/cifar-10-python.tar.gz)."
   ]
  },
  {
   "cell_type": "code",
   "execution_count": 119,
   "metadata": {},
   "outputs": [
    {
     "name": "stdout",
     "output_type": "stream",
     "text": [
      "All files found!\n"
     ]
    }
   ],
   "source": [
    "\"\"\"\n",
    "DON'T MODIFY ANYTHING IN THIS CELL THAT IS BELOW THIS LINE\n",
    "\"\"\"\n",
    "from urllib.request import urlretrieve\n",
    "from os.path import isfile, isdir\n",
    "from tqdm import tqdm\n",
    "import problem_unittests as tests\n",
    "import tarfile\n",
    "\n",
    "cifar10_dataset_folder_path = 'cifar-10-batches-py'\n",
    "\n",
    "# Use Floyd's cifar-10 dataset if present\n",
    "floyd_cifar10_location = '/input/cifar-10/python.tar.gz'\n",
    "if isfile(floyd_cifar10_location):\n",
    "    tar_gz_path = floyd_cifar10_location\n",
    "else:\n",
    "    tar_gz_path = 'cifar-10-python.tar.gz'\n",
    "\n",
    "class DLProgress(tqdm):\n",
    "    last_block = 0\n",
    "\n",
    "    def hook(self, block_num=1, block_size=1, total_size=None):\n",
    "        self.total = total_size\n",
    "        self.update((block_num - self.last_block) * block_size)\n",
    "        self.last_block = block_num\n",
    "\n",
    "if not isfile(tar_gz_path):\n",
    "    with DLProgress(unit='B', unit_scale=True, miniters=1, desc='CIFAR-10 Dataset') as pbar:\n",
    "        urlretrieve(\n",
    "            'https://www.cs.toronto.edu/~kriz/cifar-10-python.tar.gz',\n",
    "            tar_gz_path,\n",
    "            pbar.hook)\n",
    "\n",
    "if not isdir(cifar10_dataset_folder_path):\n",
    "    with tarfile.open(tar_gz_path) as tar:\n",
    "        tar.extractall()\n",
    "        tar.close()\n",
    "\n",
    "\n",
    "tests.test_folder_path(cifar10_dataset_folder_path)"
   ]
  },
  {
   "cell_type": "markdown",
   "metadata": {},
   "source": [
    "## Explore the Data\n",
    "The dataset is broken into batches to prevent your machine from running out of memory.  The CIFAR-10 dataset consists of 5 batches, named `data_batch_1`, `data_batch_2`, etc.. Each batch contains the labels and images that are one of the following:\n",
    "* airplane\n",
    "* automobile\n",
    "* bird\n",
    "* cat\n",
    "* deer\n",
    "* dog\n",
    "* frog\n",
    "* horse\n",
    "* ship\n",
    "* truck\n",
    "\n",
    "Understanding a dataset is part of making predictions on the data.  Play around with the code cell below by changing the `batch_id` and `sample_id`. The `batch_id` is the id for a batch (1-5). The `sample_id` is the id for a image and label pair in the batch.\n",
    "\n",
    "Ask yourself \"What are all possible labels?\", \"What is the range of values for the image data?\", \"Are the labels in order or random?\".  Answers to questions like these will help you preprocess the data and end up with better predictions."
   ]
  },
  {
   "cell_type": "code",
   "execution_count": 120,
   "metadata": {},
   "outputs": [
    {
     "name": "stdout",
     "output_type": "stream",
     "text": [
      "\n",
      "Stats of batch 1:\n",
      "Samples: 10000\n",
      "Label Counts: {0: 1005, 1: 974, 2: 1032, 3: 1016, 4: 999, 5: 937, 6: 1030, 7: 1001, 8: 1025, 9: 981}\n",
      "First 20 Labels: [6, 9, 9, 4, 1, 1, 2, 7, 8, 3, 4, 7, 7, 2, 9, 9, 9, 3, 2, 6]\n",
      "\n",
      "Example of Image 5:\n",
      "Image - Min Value: 0 Max Value: 252\n",
      "Image - Shape: (32, 32, 3)\n",
      "Label - Label Id: 1 Name: automobile\n"
     ]
    },
    {
     "data": {
      "image/png": "[encoded data removed]",
      "text/plain": [
       "<matplotlib.figure.Figure at 0x27a2f447828>"
      ]
     },
     "metadata": {
      "image/png": {
       "height": 250,
       "width": 253
      }
     },
     "output_type": "display_data"
    }
   ],
   "source": [
    "%matplotlib inline\n",
    "%config InlineBackend.figure_format = 'retina'\n",
    "\n",
    "import helper\n",
    "import numpy as np\n",
    "\n",
    "# Explore the dataset\n",
    "batch_id = 1\n",
    "sample_id = 5\n",
    "helper.display_stats(cifar10_dataset_folder_path, batch_id, sample_id)"
   ]
  },
  {
   "cell_type": "markdown",
   "metadata": {},
   "source": [
    "## Implement Preprocess Functions\n",
    "### Normalize\n",
    "In the cell below, implement the `normalize` function to take in image data, `x`, and return it as a normalized Numpy array. The values should be in the range of 0 to 1, inclusive.  The return object should be the same shape as `x`."
   ]
  },
  {
   "cell_type": "code",
   "execution_count": 121,
   "metadata": {},
   "outputs": [
    {
     "name": "stdout",
     "output_type": "stream",
     "text": [
      "Tests Passed\n"
     ]
    }
   ],
   "source": [
    "def normalize(x):\n",
    "    \"\"\"\n",
    "    Normalize a list of sample image data in the range of 0 to 1\n",
    "    : x: List of image data.  The image shape is (32, 32, 3)\n",
    "    : return: Numpy array of normalize data\n",
    "    \"\"\"\n",
    "    np_array = np.array(x)\n",
    "    return (np_array - np.min(np_array))/(np.max(np_array) - np.min(np_array))\n",
    "\n",
    "\"\"\"\n",
    "DON'T MODIFY ANYTHING IN THIS CELL THAT IS BELOW THIS LINE\n",
    "\"\"\"\n",
    "tests.test_normalize(normalize)"
   ]
  },
  {
   "cell_type": "markdown",
   "metadata": {},
   "source": [
    "### One-hot encode\n",
    "Just like the previous code cell, you'll be implementing a function for preprocessing.  This time, you'll implement the `one_hot_encode` function. The input, `x`, are a list of labels.  Implement the function to return the list of labels as One-Hot encoded Numpy array.  The possible values for labels are 0 to 9. The one-hot encoding function should return the same encoding for each value between each call to `one_hot_encode`.  Make sure to save the map of encodings outside the function.\n",
    "\n",
    "Hint: Don't reinvent the wheel."
   ]
  },
  {
   "cell_type": "code",
   "execution_count": 122,
   "metadata": {},
   "outputs": [
    {
     "name": "stdout",
     "output_type": "stream",
     "text": [
      "Tests Passed\n"
     ]
    }
   ],
   "source": [
    "from sklearn import preprocessing\n",
    "\n",
    "lb = preprocessing.LabelBinarizer()\n",
    "\n",
    "def one_hot_encode(x):\n",
    "    \"\"\"\n",
    "    One hot encode a list of sample labels. Return a one-hot encoded vector for each label.\n",
    "    : x: List of sample Labels\n",
    "    : return: Numpy array of one-hot encoded labels\n",
    "    \"\"\"\n",
    "    return np.eye(10)[x]\n",
    "\n",
    "\"\"\"\n",
    "DON'T MODIFY ANYTHING IN THIS CELL THAT IS BELOW THIS LINE\n",
    "\"\"\"\n",
    "tests.test_one_hot_encode(one_hot_encode)"
   ]
  },
  {
   "cell_type": "markdown",
   "metadata": {},
   "source": [
    "### Randomize Data\n",
    "As you saw from exploring the data above, the order of the samples are randomized.  It doesn't hurt to randomize it again, but you don't need to for this dataset."
   ]
  },
  {
   "cell_type": "markdown",
   "metadata": {},
   "source": [
    "## Preprocess all the data and save it\n",
    "Running the code cell below will preprocess all the CIFAR-10 data and save it to file. The code below also uses 10% of the training data for validation."
   ]
  },
  {
   "cell_type": "code",
   "execution_count": 123,
   "metadata": {
    "collapsed": true
   },
   "outputs": [],
   "source": [
    "\"\"\"\n",
    "DON'T MODIFY ANYTHING IN THIS CELL\n",
    "\"\"\"\n",
    "# Preprocess Training, Validation, and Testing Data\n",
    "helper.preprocess_and_save_data(cifar10_dataset_folder_path, normalize, one_hot_encode)"
   ]
  },
  {
   "cell_type": "markdown",
   "metadata": {},
   "source": [
    "# Check Point\n",
    "This is your first checkpoint.  If you ever decide to come back to this notebook or have to restart the notebook, you can start from here.  The preprocessed data has been saved to disk."
   ]
  },
  {
   "cell_type": "code",
   "execution_count": 124,
   "metadata": {
    "collapsed": true
   },
   "outputs": [],
   "source": [
    "\"\"\"\n",
    "DON'T MODIFY ANYTHING IN THIS CELL\n",
    "\"\"\"\n",
    "import pickle\n",
    "import problem_unittests as tests\n",
    "import helper\n",
    "\n",
    "# Load the Preprocessed Validation data\n",
    "valid_features, valid_labels = pickle.load(open('preprocess_validation.p', mode='rb'))"
   ]
  },
  {
   "cell_type": "markdown",
   "metadata": {},
   "source": [
    "## Build the network\n",
    "For the neural network, you'll build each layer into a function.  Most of the code you've seen has been outside of functions. To test your code more thoroughly, we require that you put each layer in a function.  This allows us to give you better feedback and test for simple mistakes using our unittests before you submit your project.\n",
    "\n",
    ">**Note:** If you're finding it hard to dedicate enough time for this course each week, we've provided a small shortcut to this part of the project. In the next couple of problems, you'll have the option to use classes from the [TensorFlow Layers](https://www.tensorflow.org/api_docs/python/tf/layers) or [TensorFlow Layers (contrib)](https://www.tensorflow.org/api_guides/python/contrib.layers) packages to build each layer, except the layers you build in the \"Convolutional and Max Pooling Layer\" section.  TF Layers is similar to Keras's and TFLearn's abstraction to layers, so it's easy to pickup.\n",
    "\n",
    ">However, if you would like to get the most out of this course, try to solve all the problems _without_ using anything from the TF Layers packages. You **can** still use classes from other packages that happen to have the same name as ones you find in TF Layers! For example, instead of using the TF Layers version of the `conv2d` class, [tf.layers.conv2d](https://www.tensorflow.org/api_docs/python/tf/layers/conv2d), you would want to use the TF Neural Network version of `conv2d`, [tf.nn.conv2d](https://www.tensorflow.org/api_docs/python/tf/nn/conv2d). \n",
    "\n",
    "Let's begin!\n",
    "\n",
    "### Input\n",
    "The neural network needs to read the image data, one-hot encoded labels, and dropout keep probability. Implement the following functions\n",
    "* Implement `neural_net_image_input`\n",
    " * Return a [TF Placeholder](https://www.tensorflow.org/api_docs/python/tf/placeholder)\n",
    " * Set the shape using `image_shape` with batch size set to `None`.\n",
    " * Name the TensorFlow placeholder \"x\" using the TensorFlow `name` parameter in the [TF Placeholder](https://www.tensorflow.org/api_docs/python/tf/placeholder).\n",
    "* Implement `neural_net_label_input`\n",
    " * Return a [TF Placeholder](https://www.tensorflow.org/api_docs/python/tf/placeholder)\n",
    " * Set the shape using `n_classes` with batch size set to `None`.\n",
    " * Name the TensorFlow placeholder \"y\" using the TensorFlow `name` parameter in the [TF Placeholder](https://www.tensorflow.org/api_docs/python/tf/placeholder).\n",
    "* Implement `neural_net_keep_prob_input`\n",
    " * Return a [TF Placeholder](https://www.tensorflow.org/api_docs/python/tf/placeholder) for dropout keep probability.\n",
    " * Name the TensorFlow placeholder \"keep_prob\" using the TensorFlow `name` parameter in the [TF Placeholder](https://www.tensorflow.org/api_docs/python/tf/placeholder).\n",
    "\n",
    "These names will be used at the end of the project to load your saved model.\n",
    "\n",
    "Note: `None` for shapes in TensorFlow allow for a dynamic size."
   ]
  },
  {
   "cell_type": "code",
   "execution_count": 125,
   "metadata": {},
   "outputs": [
    {
     "name": "stdout",
     "output_type": "stream",
     "text": [
      "Image Input Tests Passed.\n",
      "Label Input Tests Passed.\n",
      "Keep Prob Tests Passed.\n"
     ]
    }
   ],
   "source": [
    "import tensorflow as tf\n",
    "\n",
    "def neural_net_image_input(image_shape):\n",
    "    \"\"\"\n",
    "    Return a Tensor for a batch of image input\n",
    "    : image_shape: Shape of the images\n",
    "    : return: Tensor for image input.\n",
    "    \"\"\"\n",
    "    return tf.placeholder(tf.float32, shape = [None,*image_shape], name = \"x\")\n",
    "\n",
    "def neural_net_label_input(n_classes):\n",
    "    \"\"\"\n",
    "    Return a Tensor for a batch of label input\n",
    "    : n_classes: Number of classes\n",
    "    : return: Tensor for label input.\n",
    "    \"\"\"\n",
    "    return tf.placeholder(tf.float32, shape = [None,n_classes], name = \"y\")\n",
    "\n",
    "def neural_net_keep_prob_input():\n",
    "    \"\"\"\n",
    "    Return a Tensor for keep probability\n",
    "    : return: Tensor for keep probability.\n",
    "    \"\"\"\n",
    "    return tf.placeholder(tf.float32, name = \"keep_prob\")\n",
    "\n",
    "\"\"\"\n",
    "DON'T MODIFY ANYTHING IN THIS CELL THAT IS BELOW THIS LINE\n",
    "\"\"\"\n",
    "tf.reset_default_graph()\n",
    "tests.test_nn_image_inputs(neural_net_image_input)\n",
    "tests.test_nn_label_inputs(neural_net_label_input)\n",
    "tests.test_nn_keep_prob_inputs(neural_net_keep_prob_input)"
   ]
  },
  {
   "cell_type": "markdown",
   "metadata": {},
   "source": [
    "### Convolution and Max Pooling Layer\n",
    "Convolution layers have a lot of success with images. For this code cell, you should implement the function `conv2d_maxpool` to apply convolution then max pooling:\n",
    "* Create the weight and bias using `conv_ksize`, `conv_num_outputs` and the shape of `x_tensor`.\n",
    "* Apply a convolution to `x_tensor` using weight and `conv_strides`.\n",
    " * We recommend you use same padding, but you're welcome to use any padding.\n",
    "* Add bias\n",
    "* Add a nonlinear activation to the convolution.\n",
    "* Apply Max Pooling using `pool_ksize` and `pool_strides`.\n",
    " * We recommend you use same padding, but you're welcome to use any padding.\n",
    "\n",
    "**Note:** You **can't** use [TensorFlow Layers](https://www.tensorflow.org/api_docs/python/tf/layers) or [TensorFlow Layers (contrib)](https://www.tensorflow.org/api_guides/python/contrib.layers) for **this** layer, but you can still use TensorFlow's [Neural Network](https://www.tensorflow.org/api_docs/python/tf/nn) package. You may still use the shortcut option for all the **other** layers."
   ]
  },
  {
   "cell_type": "code",
   "execution_count": 126,
   "metadata": {},
   "outputs": [
    {
     "name": "stdout",
     "output_type": "stream",
     "text": [
      "Tests Passed\n"
     ]
    }
   ],
   "source": [
    "def conv2d_maxpool(x_tensor, conv_num_outputs, conv_ksize, conv_strides, pool_ksize, pool_strides):\n",
    "    \"\"\"\n",
    "    Apply convolution then max pooling to x_tensor\n",
    "    :param x_tensor: TensorFlow Tensor\n",
    "    :param conv_num_outputs: Number of outputs for the convolutional layer\n",
    "    :param conv_ksize: kernal size 2-D Tuple for the convolutional layer\n",
    "    :param conv_strides: Stride 2-D Tuple for convolution\n",
    "    :param pool_ksize: kernal size 2-D Tuple for pool\n",
    "    :param pool_strides: Stride 2-D Tuple for pool\n",
    "    : return: A tensor that represents convolution and max pooling of x_tensor\n",
    "    \"\"\"\n",
    "    _, img_h, img_w, img_d = x_tensor.get_shape().as_list()\n",
    "        \n",
    "    weights = tf.Variable(tf.truncated_normal([conv_ksize[0],conv_ksize[1],img_d,conv_num_outputs],stddev=0.1))\n",
    "    bias    = tf.Variable(tf.zeros([conv_num_outputs]))\n",
    "\n",
    "    conv_layer = tf.nn.conv2d(x_tensor,weights,[1,conv_strides[0],conv_strides[1], 1],padding = 'SAME')\n",
    "    conv_layer = tf.nn.bias_add(conv_layer,bias)\n",
    "    conv_layer = tf.nn.relu(conv_layer)\n",
    "    result = tf.nn.max_pool(conv_layer,[1, pool_ksize[0], pool_ksize[1],1],[1, pool_strides[0], pool_strides[1],1],padding = 'SAME')\n",
    "    return result\n",
    "                          \n",
    "\"\"\"\n",
    "DON'T MODIFY ANYTHING IN THIS CELL THAT IS BELOW THIS LINE\n",
    "\"\"\"\n",
    "tests.test_con_pool(conv2d_maxpool)"
   ]
  },
  {
   "cell_type": "markdown",
   "metadata": {},
   "source": [
    "### Flatten Layer\n",
    "Implement the `flatten` function to change the dimension of `x_tensor` from a 4-D tensor to a 2-D tensor.  The output should be the shape (*Batch Size*, *Flattened Image Size*). Shortcut option: you can use classes from the [TensorFlow Layers](https://www.tensorflow.org/api_docs/python/tf/layers) or [TensorFlow Layers (contrib)](https://www.tensorflow.org/api_guides/python/contrib.layers) packages for this layer. For more of a challenge, only use other TensorFlow packages."
   ]
  },
  {
   "cell_type": "code",
   "execution_count": 127,
   "metadata": {},
   "outputs": [
    {
     "name": "stdout",
     "output_type": "stream",
     "text": [
      "Tests Passed\n"
     ]
    }
   ],
   "source": [
    "def flatten(x_tensor):\n",
    "    \"\"\"\n",
    "    Flatten x_tensor to (Batch Size, Flattened Image Size)\n",
    "    : x_tensor: A tensor of size (Batch Size, ...), where ... are the image dimensions.\n",
    "    : return: A tensor of size (Batch Size, Flattened Image Size).\n",
    "    \"\"\"\n",
    "    # This section contains the non Layers package implementation. \n",
    "    # Layers package provides better accuracy hence the comment \n",
    "    # Left here for evaluation purposes \n",
    "    #_,x_w,x_l,x_d = x_tensor.get_shape().as_list()\n",
    "    #return tf.reshape(x_tensor, [-1, x_w*x_l*x_d]) \n",
    "\n",
    "    return tf.contrib.layers.flatten(x_tensor)\n",
    "\n",
    "\"\"\"\n",
    "DON'T MODIFY ANYTHING IN THIS CELL THAT IS BELOW THIS LINE\n",
    "\"\"\"\n",
    "tests.test_flatten(flatten)"
   ]
  },
  {
   "cell_type": "markdown",
   "metadata": {},
   "source": [
    "### Fully-Connected Layer\n",
    "Implement the `fully_conn` function to apply a fully connected layer to `x_tensor` with the shape (*Batch Size*, *num_outputs*). Shortcut option: you can use classes from the [TensorFlow Layers](https://www.tensorflow.org/api_docs/python/tf/layers) or [TensorFlow Layers (contrib)](https://www.tensorflow.org/api_guides/python/contrib.layers) packages for this layer. For more of a challenge, only use other TensorFlow packages."
   ]
  },
  {
   "cell_type": "code",
   "execution_count": 128,
   "metadata": {},
   "outputs": [
    {
     "name": "stdout",
     "output_type": "stream",
     "text": [
      "Tests Passed\n"
     ]
    }
   ],
   "source": [
    "def fully_conn(x_tensor, num_outputs):\n",
    "    \"\"\"\n",
    "    Apply a fully connected layer to x_tensor using weight and bias\n",
    "    : x_tensor: A 2-D tensor where the first dimension is batch size.\n",
    "    : num_outputs: The number of output that the new tensor should be.\n",
    "    : return: A 2-D tensor where the second dimension is num_outputs.\n",
    "    \"\"\"\n",
    "    # This section contains the non Layers package implementation. \n",
    "    # Layers package provides better accuracy hence the comment \n",
    "    # Left here for evaluation purposes \n",
    "    #size = x_tensor.get_shape().as_list()[1]\n",
    "    #weights = tf.Variable(tf.truncated_normal([size,num_outputs],stddev=0.1))\n",
    "    #biases  = tf.Variable(tf.random_normal([num_outputs]))    \n",
    "    \n",
    "    #return tf.nn.relu_layer(x_tensor,weights,biases)\n",
    "    return tf.contrib.layers.fully_connected(x_tensor, num_outputs, activation_fn=tf.nn.relu)\n",
    "\n",
    "\"\"\"\n",
    "DON'T MODIFY ANYTHING IN THIS CELL THAT IS BELOW THIS LINE\n",
    "\"\"\"\n",
    "tests.test_fully_conn(fully_conn)"
   ]
  },
  {
   "cell_type": "markdown",
   "metadata": {},
   "source": [
    "### Output Layer\n",
    "Implement the `output` function to apply a fully connected layer to `x_tensor` with the shape (*Batch Size*, *num_outputs*). Shortcut option: you can use classes from the [TensorFlow Layers](https://www.tensorflow.org/api_docs/python/tf/layers) or [TensorFlow Layers (contrib)](https://www.tensorflow.org/api_guides/python/contrib.layers) packages for this layer. For more of a challenge, only use other TensorFlow packages.\n",
    "\n",
    "**Note:** Activation, softmax, or cross entropy should **not** be applied to this."
   ]
  },
  {
   "cell_type": "code",
   "execution_count": 129,
   "metadata": {},
   "outputs": [
    {
     "name": "stdout",
     "output_type": "stream",
     "text": [
      "Tests Passed\n"
     ]
    }
   ],
   "source": [
    "def output(x_tensor, num_outputs):\n",
    "    \"\"\"\n",
    "    Apply a output layer to x_tensor using weight and bias\n",
    "    : x_tensor: A 2-D tensor where the first dimension is batch size.\n",
    "    : num_outputs: The number of output that the new tensor should be.\n",
    "    : return: A 2-D tensor where the second dimension is num_outputs.\n",
    "    \"\"\"\n",
    "    # This section contains the non Layers package implementation. \n",
    "    # Layers package provides better accuracy hence the comment \n",
    "    # Left here for evaluation purposes \n",
    "    #size = x_tensor.get_shape().as_list()[1]\n",
    "    #weights = tf.Variable(tf.truncated_normal([size,num_outputs],stddev=0.1))\n",
    "    #biases  = tf.Variable(tf.random_normal([num_outputs]))    \n",
    "    \n",
    "    #_ = tf.matmul(x_tensor,weights)\n",
    "    #return tf.nn.bias_add(_,biases)\n",
    "\n",
    "    return tf.contrib.layers.fully_connected(x_tensor, num_outputs, activation_fn=None)\n",
    "\n",
    "\"\"\"\n",
    "DON'T MODIFY ANYTHING IN THIS CELL THAT IS BELOW THIS LINE\n",
    "\"\"\"\n",
    "tests.test_output(output)"
   ]
  },
  {
   "cell_type": "markdown",
   "metadata": {},
   "source": [
    "### Create Convolutional Model\n",
    "Implement the function `conv_net` to create a convolutional neural network model. The function takes in a batch of images, `x`, and outputs logits.  Use the layers you created above to create this model:\n",
    "\n",
    "* Apply 1, 2, or 3 Convolution and Max Pool layers\n",
    "* Apply a Flatten Layer\n",
    "* Apply 1, 2, or 3 Fully Connected Layers\n",
    "* Apply an Output Layer\n",
    "* Return the output\n",
    "* Apply [TensorFlow's Dropout](https://www.tensorflow.org/api_docs/python/tf/nn/dropout) to one or more layers in the model using `keep_prob`. "
   ]
  },
  {
   "cell_type": "code",
   "execution_count": 155,
   "metadata": {},
   "outputs": [
    {
     "name": "stdout",
     "output_type": "stream",
     "text": [
      "Neural Network Built!\n"
     ]
    }
   ],
   "source": [
    "def conv_net(x, keep_prob):\n",
    "    \"\"\"\n",
    "    Create a convolutional neural network model\n",
    "    : x: Placeholder tensor that holds image data.\n",
    "    : keep_prob: Placeholder tensor that hold dropout keep probability.\n",
    "    : return: Tensor that represents logits\n",
    "    \"\"\"\n",
    "    # Convolutional layers\n",
    "    conv_layer = conv2d_maxpool(x, 32, (5,5), (1,1), (2,2), (2,2))\n",
    "    conv_layer = conv2d_maxpool(conv_layer, 64, (5,5), (1,1), (2,2), (2,2))\n",
    "\n",
    "    # Flattening layer\n",
    "    flatten_layer = flatten(conv_layer)\n",
    "    \n",
    "    # Fully Connected Layer\n",
    "    fcon_layer = fully_conn(flatten_layer, 64)\n",
    "    fcon_layer = tf.nn.dropout(fcon_layer, keep_prob)\n",
    "    \n",
    "    # Output Layer\n",
    "    return output(fcon_layer, 10)\n",
    "\n",
    "\"\"\"\n",
    "DON'T MODIFY ANYTHING IN THIS CELL THAT IS BELOW THIS LINE\n",
    "\"\"\"\n",
    "\n",
    "##############################\n",
    "## Build the Neural Network ##\n",
    "##############################\n",
    "\n",
    "# Remove previous weights, bias, inputs, etc..\n",
    "tf.reset_default_graph()\n",
    "\n",
    "# Inputs\n",
    "x = neural_net_image_input((32, 32, 3))\n",
    "y = neural_net_label_input(10)\n",
    "keep_prob = neural_net_keep_prob_input()\n",
    "\n",
    "# Model\n",
    "logits = conv_net(x, keep_prob)\n",
    "\n",
    "# Name logits Tensor, so that is can be loaded from disk after training\n",
    "logits = tf.identity(logits, name='logits')\n",
    "\n",
    "# Loss and Optimizer\n",
    "cost = tf.reduce_mean(tf.nn.softmax_cross_entropy_with_logits(logits=logits, labels=y))\n",
    "optimizer = tf.train.AdamOptimizer().minimize(cost)\n",
    "\n",
    "# Accuracy\n",
    "correct_pred = tf.equal(tf.argmax(logits, 1), tf.argmax(y, 1))\n",
    "accuracy = tf.reduce_mean(tf.cast(correct_pred, tf.float32), name='accuracy')\n",
    "\n",
    "tests.test_conv_net(conv_net)"
   ]
  },
  {
   "cell_type": "markdown",
   "metadata": {},
   "source": [
    "## Train the Neural Network\n",
    "### Single Optimization\n",
    "Implement the function `train_neural_network` to do a single optimization.  The optimization should use `optimizer` to optimize in `session` with a `feed_dict` of the following:\n",
    "* `x` for image input\n",
    "* `y` for labels\n",
    "* `keep_prob` for keep probability for dropout\n",
    "\n",
    "This function will be called for each batch, so `tf.global_variables_initializer()` has already been called.\n",
    "\n",
    "Note: Nothing needs to be returned. This function is only optimizing the neural network."
   ]
  },
  {
   "cell_type": "code",
   "execution_count": 156,
   "metadata": {},
   "outputs": [
    {
     "name": "stdout",
     "output_type": "stream",
     "text": [
      "Tests Passed\n"
     ]
    }
   ],
   "source": [
    "def train_neural_network(session, optimizer, keep_probability, feature_batch, label_batch):\n",
    "    \"\"\"\n",
    "    Optimize the session on a batch of images and labels\n",
    "    : session: Current TensorFlow session\n",
    "    : optimizer: TensorFlow optimizer function\n",
    "    : keep_probability: keep probability\n",
    "    : feature_batch: Batch of Numpy image data\n",
    "    : label_batch: Batch of Numpy label data\n",
    "    \"\"\"\n",
    "    session.run(optimizer,feed_dict={x:feature_batch,y:label_batch,keep_prob:keep_probability})\n",
    "\n",
    "\"\"\"\n",
    "DON'T MODIFY ANYTHING IN THIS CELL THAT IS BELOW THIS LINE\n",
    "\"\"\"\n",
    "tests.test_train_nn(train_neural_network)"
   ]
  },
  {
   "cell_type": "markdown",
   "metadata": {},
   "source": [
    "### Show Stats\n",
    "Implement the function `print_stats` to print loss and validation accuracy.  Use the global variables `valid_features` and `valid_labels` to calculate validation accuracy.  Use a keep probability of `1.0` to calculate the loss and validation accuracy."
   ]
  },
  {
   "cell_type": "code",
   "execution_count": 157,
   "metadata": {
    "collapsed": true
   },
   "outputs": [],
   "source": [
    "def print_stats(session, feature_batch, label_batch, cost, accuracy):\n",
    "    \"\"\"\n",
    "    Print information about loss and validation accuracy\n",
    "    : session: Current TensorFlow session\n",
    "    : feature_batch: Batch of Numpy image data\n",
    "    : label_batch: Batch of Numpy label data\n",
    "    : cost: TensorFlow cost function\n",
    "    : accuracy: TensorFlow accuracy function\n",
    "    \"\"\"\n",
    "    loss = session.run(cost, feed_dict={\n",
    "    x:feature_batch,\n",
    "    y:label_batch,\n",
    "    keep_prob:1.0\n",
    "    })\n",
    "    \n",
    "    valid_acc = session.run(accuracy, feed_dict={\n",
    "    x:valid_features,\n",
    "    y:valid_labels,\n",
    "    keep_prob:1.0\n",
    "    })\n",
    "    \n",
    "    print('Loss: {} Validation Accuracy: {}'.format(loss, valid_acc))"
   ]
  },
  {
   "cell_type": "markdown",
   "metadata": {},
   "source": [
    "### Hyperparameters\n",
    "Tune the following parameters:\n",
    "* Set `epochs` to the number of iterations until the network stops learning or start overfitting\n",
    "* Set `batch_size` to the highest number that your machine has memory for.  Most people set them to common sizes of memory:\n",
    " * 64\n",
    " * 128\n",
    " * 256\n",
    " * ...\n",
    "* Set `keep_probability` to the probability of keeping a node using dropout"
   ]
  },
  {
   "cell_type": "code",
   "execution_count": 165,
   "metadata": {
    "collapsed": true
   },
   "outputs": [],
   "source": [
    "# TODO: Tune Parameters\n",
    "epochs = 20\n",
    "batch_size = 64\n",
    "keep_probability = 0.5"
   ]
  },
  {
   "cell_type": "markdown",
   "metadata": {},
   "source": [
    "### Train on a Single CIFAR-10 Batch\n",
    "Instead of training the neural network on all the CIFAR-10 batches of data, let's use a single batch. This should save time while you iterate on the model to get a better accuracy.  Once the final validation accuracy is 50% or greater, run the model on all the data in the next section."
   ]
  },
  {
   "cell_type": "code",
   "execution_count": 166,
   "metadata": {},
   "outputs": [
    {
     "name": "stdout",
     "output_type": "stream",
     "text": [
      "Checking the Training on a Single Batch...\n",
      "Epoch  1, CIFAR-10 Batch 1:  Loss: 2.0837604999542236 Validation Accuracy: 0.296999990940094\n",
      "Epoch  2, CIFAR-10 Batch 1:  Loss: 1.856005072593689 Validation Accuracy: 0.4131999909877777\n",
      "Epoch  3, CIFAR-10 Batch 1:  Loss: 1.7602462768554688 Validation Accuracy: 0.4246000051498413\n",
      "Epoch  4, CIFAR-10 Batch 1:  Loss: 1.8118934631347656 Validation Accuracy: 0.4036000072956085\n",
      "Epoch  5, CIFAR-10 Batch 1:  Loss: 1.643425703048706 Validation Accuracy: 0.46480000019073486\n",
      "Epoch  6, CIFAR-10 Batch 1:  Loss: 1.4727346897125244 Validation Accuracy: 0.4903999865055084\n",
      "Epoch  7, CIFAR-10 Batch 1:  Loss: 1.4512643814086914 Validation Accuracy: 0.49239999055862427\n",
      "Epoch  8, CIFAR-10 Batch 1:  Loss: 1.3873662948608398 Validation Accuracy: 0.5012000203132629\n",
      "Epoch  9, CIFAR-10 Batch 1:  Loss: 1.3331644535064697 Validation Accuracy: 0.49720001220703125\n",
      "Epoch 10, CIFAR-10 Batch 1:  Loss: 1.2511966228485107 Validation Accuracy: 0.5126000046730042\n",
      "Epoch 11, CIFAR-10 Batch 1:  Loss: 1.2150795459747314 Validation Accuracy: 0.5139999985694885\n",
      "Epoch 12, CIFAR-10 Batch 1:  Loss: 1.123603343963623 Validation Accuracy: 0.5216000080108643\n",
      "Epoch 13, CIFAR-10 Batch 1:  Loss: 1.121899962425232 Validation Accuracy: 0.5152000188827515\n",
      "Epoch 14, CIFAR-10 Batch 1:  Loss: 1.0426476001739502 Validation Accuracy: 0.5116000175476074\n",
      "Epoch 15, CIFAR-10 Batch 1:  Loss: 1.0567578077316284 Validation Accuracy: 0.5220000147819519\n",
      "Epoch 16, CIFAR-10 Batch 1:  Loss: 0.9931663274765015 Validation Accuracy: 0.532800018787384\n",
      "Epoch 17, CIFAR-10 Batch 1:  Loss: 0.9527130126953125 Validation Accuracy: 0.5360000133514404\n",
      "Epoch 18, CIFAR-10 Batch 1:  Loss: 0.8707888722419739 Validation Accuracy: 0.531000018119812\n",
      "Epoch 19, CIFAR-10 Batch 1:  Loss: 0.814678966999054 Validation Accuracy: 0.5234000086784363\n",
      "Epoch 20, CIFAR-10 Batch 1:  Loss: 0.7926672101020813 Validation Accuracy: 0.5465999841690063\n"
     ]
    }
   ],
   "source": [
    "\"\"\"\n",
    "DON'T MODIFY ANYTHING IN THIS CELL\n",
    "\"\"\"\n",
    "print('Checking the Training on a Single Batch...')\n",
    "with tf.Session() as sess:\n",
    "    # Initializing the variables\n",
    "    sess.run(tf.global_variables_initializer())\n",
    "    \n",
    "    # Training cycle\n",
    "    for epoch in range(epochs):\n",
    "        batch_i = 1\n",
    "        for batch_features, batch_labels in helper.load_preprocess_training_batch(batch_i, batch_size):\n",
    "            train_neural_network(sess, optimizer, keep_probability, batch_features, batch_labels)\n",
    "        print('Epoch {:>2}, CIFAR-10 Batch {}:  '.format(epoch + 1, batch_i), end='')\n",
    "        print_stats(sess, batch_features, batch_labels, cost, accuracy)"
   ]
  },
  {
   "cell_type": "markdown",
   "metadata": {},
   "source": [
    "### Fully Train the Model\n",
    "Now that you got a good accuracy with a single CIFAR-10 batch, try it with all five batches."
   ]
  },
  {
   "cell_type": "code",
   "execution_count": 167,
   "metadata": {},
   "outputs": [
    {
     "name": "stdout",
     "output_type": "stream",
     "text": [
      "Training...\n",
      "Epoch  1, CIFAR-10 Batch 1:  Loss: 2.1350836753845215 Validation Accuracy: 0.33000001311302185\n",
      "Epoch  1, CIFAR-10 Batch 2:  Loss: 2.0027709007263184 Validation Accuracy: 0.3296000063419342\n",
      "Epoch  1, CIFAR-10 Batch 3:  Loss: 1.609052300453186 Validation Accuracy: 0.38420000672340393\n",
      "Epoch  1, CIFAR-10 Batch 4:  Loss: 1.7607189416885376 Validation Accuracy: 0.4169999957084656\n",
      "Epoch  1, CIFAR-10 Batch 5:  Loss: 1.6912014484405518 Validation Accuracy: 0.4291999936103821\n",
      "Epoch  2, CIFAR-10 Batch 1:  Loss: 1.8864132165908813 Validation Accuracy: 0.4311999976634979\n",
      "Epoch  2, CIFAR-10 Batch 2:  Loss: 1.71103835105896 Validation Accuracy: 0.4431999921798706\n",
      "Epoch  2, CIFAR-10 Batch 3:  Loss: 1.480345368385315 Validation Accuracy: 0.4620000123977661\n",
      "Epoch  2, CIFAR-10 Batch 4:  Loss: 1.5940346717834473 Validation Accuracy: 0.4864000082015991\n",
      "Epoch  2, CIFAR-10 Batch 5:  Loss: 1.5197563171386719 Validation Accuracy: 0.48980000615119934\n",
      "Epoch  3, CIFAR-10 Batch 1:  Loss: 1.7221664190292358 Validation Accuracy: 0.5170000195503235\n",
      "Epoch  3, CIFAR-10 Batch 2:  Loss: 1.470633864402771 Validation Accuracy: 0.5307999849319458\n",
      "Epoch  3, CIFAR-10 Batch 3:  Loss: 1.2110859155654907 Validation Accuracy: 0.5192000269889832\n",
      "Epoch  3, CIFAR-10 Batch 4:  Loss: 1.4255290031433105 Validation Accuracy: 0.5509999990463257\n",
      "Epoch  3, CIFAR-10 Batch 5:  Loss: 1.3743963241577148 Validation Accuracy: 0.5429999828338623\n",
      "Epoch  4, CIFAR-10 Batch 1:  Loss: 1.4272102117538452 Validation Accuracy: 0.5717999935150146\n",
      "Epoch  4, CIFAR-10 Batch 2:  Loss: 1.198387622833252 Validation Accuracy: 0.5651999711990356\n",
      "Epoch  4, CIFAR-10 Batch 3:  Loss: 1.044274091720581 Validation Accuracy: 0.5627999901771545\n",
      "Epoch  4, CIFAR-10 Batch 4:  Loss: 1.247780442237854 Validation Accuracy: 0.5911999940872192\n",
      "Epoch  4, CIFAR-10 Batch 5:  Loss: 1.1826660633087158 Validation Accuracy: 0.597599983215332\n",
      "Epoch  5, CIFAR-10 Batch 1:  Loss: 1.3043864965438843 Validation Accuracy: 0.593999981880188\n",
      "Epoch  5, CIFAR-10 Batch 2:  Loss: 1.0261201858520508 Validation Accuracy: 0.5878000259399414\n",
      "Epoch  5, CIFAR-10 Batch 3:  Loss: 0.9690225720405579 Validation Accuracy: 0.5613999962806702\n",
      "Epoch  5, CIFAR-10 Batch 4:  Loss: 1.0882190465927124 Validation Accuracy: 0.6075999736785889\n",
      "Epoch  5, CIFAR-10 Batch 5:  Loss: 1.0279812812805176 Validation Accuracy: 0.6161999702453613\n",
      "Epoch  6, CIFAR-10 Batch 1:  Loss: 1.1410938501358032 Validation Accuracy: 0.6129999756813049\n",
      "Epoch  6, CIFAR-10 Batch 2:  Loss: 0.9873262643814087 Validation Accuracy: 0.629800021648407\n",
      "Epoch  6, CIFAR-10 Batch 3:  Loss: 0.8663409352302551 Validation Accuracy: 0.6083999872207642\n",
      "Epoch  6, CIFAR-10 Batch 4:  Loss: 0.982757568359375 Validation Accuracy: 0.6128000020980835\n",
      "Epoch  6, CIFAR-10 Batch 5:  Loss: 0.9768926501274109 Validation Accuracy: 0.631600022315979\n",
      "Epoch  7, CIFAR-10 Batch 1:  Loss: 1.1647440195083618 Validation Accuracy: 0.6263999938964844\n",
      "Epoch  7, CIFAR-10 Batch 2:  Loss: 0.9188331365585327 Validation Accuracy: 0.6420000195503235\n",
      "Epoch  7, CIFAR-10 Batch 3:  Loss: 0.7470334768295288 Validation Accuracy: 0.6406000256538391\n",
      "Epoch  7, CIFAR-10 Batch 4:  Loss: 0.9063770174980164 Validation Accuracy: 0.6313999891281128\n",
      "Epoch  7, CIFAR-10 Batch 5:  Loss: 0.8287819623947144 Validation Accuracy: 0.6435999870300293\n",
      "Epoch  8, CIFAR-10 Batch 1:  Loss: 0.9619185328483582 Validation Accuracy: 0.6453999876976013\n",
      "Epoch  8, CIFAR-10 Batch 2:  Loss: 0.8048720359802246 Validation Accuracy: 0.6470000147819519\n",
      "Epoch  8, CIFAR-10 Batch 3:  Loss: 0.7576361894607544 Validation Accuracy: 0.6444000005722046\n",
      "Epoch  8, CIFAR-10 Batch 4:  Loss: 0.8645011186599731 Validation Accuracy: 0.6474000215530396\n",
      "Epoch  8, CIFAR-10 Batch 5:  Loss: 0.808818519115448 Validation Accuracy: 0.6407999992370605\n",
      "Epoch  9, CIFAR-10 Batch 1:  Loss: 0.890794575214386 Validation Accuracy: 0.6557999849319458\n",
      "Epoch  9, CIFAR-10 Batch 2:  Loss: 0.6740277409553528 Validation Accuracy: 0.6564000248908997\n",
      "Epoch  9, CIFAR-10 Batch 3:  Loss: 0.7013043165206909 Validation Accuracy: 0.6481999754905701\n",
      "Epoch  9, CIFAR-10 Batch 4:  Loss: 0.7757681608200073 Validation Accuracy: 0.659600019454956\n",
      "Epoch  9, CIFAR-10 Batch 5:  Loss: 0.7138182520866394 Validation Accuracy: 0.6621999740600586\n",
      "Epoch 10, CIFAR-10 Batch 1:  Loss: 0.8887922167778015 Validation Accuracy: 0.6503999829292297\n",
      "Epoch 10, CIFAR-10 Batch 2:  Loss: 0.6843196153640747 Validation Accuracy: 0.6818000078201294\n",
      "Epoch 10, CIFAR-10 Batch 3:  Loss: 0.6492649912834167 Validation Accuracy: 0.6582000255584717\n",
      "Epoch 10, CIFAR-10 Batch 4:  Loss: 0.7622047662734985 Validation Accuracy: 0.6543999910354614\n",
      "Epoch 10, CIFAR-10 Batch 5:  Loss: 0.7037167549133301 Validation Accuracy: 0.6765999794006348\n",
      "Epoch 11, CIFAR-10 Batch 1:  Loss: 0.8199750781059265 Validation Accuracy: 0.6625999808311462\n",
      "Epoch 11, CIFAR-10 Batch 2:  Loss: 0.6223325133323669 Validation Accuracy: 0.6628000140190125\n",
      "Epoch 11, CIFAR-10 Batch 3:  Loss: 0.5609037280082703 Validation Accuracy: 0.6836000084877014\n",
      "Epoch 11, CIFAR-10 Batch 4:  Loss: 0.6846250891685486 Validation Accuracy: 0.6674000024795532\n",
      "Epoch 11, CIFAR-10 Batch 5:  Loss: 0.6237765550613403 Validation Accuracy: 0.6814000010490417\n",
      "Epoch 12, CIFAR-10 Batch 1:  Loss: 0.727347195148468 Validation Accuracy: 0.6715999841690063\n",
      "Epoch 12, CIFAR-10 Batch 2:  Loss: 0.5623575448989868 Validation Accuracy: 0.676800012588501\n",
      "Epoch 12, CIFAR-10 Batch 3:  Loss: 0.5158002972602844 Validation Accuracy: 0.6632000207901001\n",
      "Epoch 12, CIFAR-10 Batch 4:  Loss: 0.6473912000656128 Validation Accuracy: 0.675599992275238\n",
      "Epoch 12, CIFAR-10 Batch 5:  Loss: 0.5899707674980164 Validation Accuracy: 0.6901999711990356\n",
      "Epoch 13, CIFAR-10 Batch 1:  Loss: 0.6418564915657043 Validation Accuracy: 0.6848000288009644\n",
      "Epoch 13, CIFAR-10 Batch 2:  Loss: 0.5348528027534485 Validation Accuracy: 0.6765999794006348\n",
      "Epoch 13, CIFAR-10 Batch 3:  Loss: 0.5324439406394958 Validation Accuracy: 0.6638000011444092\n",
      "Epoch 13, CIFAR-10 Batch 4:  Loss: 0.6256228685379028 Validation Accuracy: 0.6872000098228455\n",
      "Epoch 13, CIFAR-10 Batch 5:  Loss: 0.6210541725158691 Validation Accuracy: 0.6844000220298767\n",
      "Epoch 14, CIFAR-10 Batch 1:  Loss: 0.6478044390678406 Validation Accuracy: 0.6844000220298767\n",
      "Epoch 14, CIFAR-10 Batch 2:  Loss: 0.5172435641288757 Validation Accuracy: 0.6841999888420105\n",
      "Epoch 14, CIFAR-10 Batch 3:  Loss: 0.44225674867630005 Validation Accuracy: 0.6845999956130981\n",
      "Epoch 14, CIFAR-10 Batch 4:  Loss: 0.6109774708747864 Validation Accuracy: 0.6887999773025513\n",
      "Epoch 14, CIFAR-10 Batch 5:  Loss: 0.5607509016990662 Validation Accuracy: 0.6851999759674072\n",
      "Epoch 15, CIFAR-10 Batch 1:  Loss: 0.6830945611000061 Validation Accuracy: 0.6826000213623047\n",
      "Epoch 15, CIFAR-10 Batch 2:  Loss: 0.4758981764316559 Validation Accuracy: 0.6869999766349792\n",
      "Epoch 15, CIFAR-10 Batch 3:  Loss: 0.4368768632411957 Validation Accuracy: 0.6922000050544739\n",
      "Epoch 15, CIFAR-10 Batch 4:  Loss: 0.5506903529167175 Validation Accuracy: 0.6890000104904175\n",
      "Epoch 15, CIFAR-10 Batch 5:  Loss: 0.4951418340206146 Validation Accuracy: 0.6700000166893005\n",
      "Epoch 16, CIFAR-10 Batch 1:  Loss: 0.6173647046089172 Validation Accuracy: 0.699400007724762\n",
      "Epoch 16, CIFAR-10 Batch 2:  Loss: 0.4048841595649719 Validation Accuracy: 0.692799985408783\n",
      "Epoch 16, CIFAR-10 Batch 3:  Loss: 0.4131864607334137 Validation Accuracy: 0.6862000226974487\n",
      "Epoch 16, CIFAR-10 Batch 4:  Loss: 0.5192264318466187 Validation Accuracy: 0.6850000023841858\n",
      "Epoch 16, CIFAR-10 Batch 5:  Loss: 0.45671430230140686 Validation Accuracy: 0.6850000023841858\n",
      "Epoch 17, CIFAR-10 Batch 1:  Loss: 0.5716813802719116 Validation Accuracy: 0.6881999969482422\n",
      "Epoch 17, CIFAR-10 Batch 2:  Loss: 0.3807613253593445 Validation Accuracy: 0.6976000070571899\n",
      "Epoch 17, CIFAR-10 Batch 3:  Loss: 0.37299275398254395 Validation Accuracy: 0.6654000282287598\n",
      "Epoch 17, CIFAR-10 Batch 4:  Loss: 0.5073667764663696 Validation Accuracy: 0.6891999840736389\n",
      "Epoch 17, CIFAR-10 Batch 5:  Loss: 0.39415478706359863 Validation Accuracy: 0.6934000253677368\n",
      "Epoch 18, CIFAR-10 Batch 1:  Loss: 0.5053269863128662 Validation Accuracy: 0.6869999766349792\n",
      "Epoch 18, CIFAR-10 Batch 2:  Loss: 0.4177914261817932 Validation Accuracy: 0.6895999908447266\n"
     ]
    },
    {
     "name": "stdout",
     "output_type": "stream",
     "text": [
      "Epoch 18, CIFAR-10 Batch 3:  Loss: 0.3816238045692444 Validation Accuracy: 0.6962000131607056\n",
      "Epoch 18, CIFAR-10 Batch 4:  Loss: 0.4509570002555847 Validation Accuracy: 0.6940000057220459\n",
      "Epoch 18, CIFAR-10 Batch 5:  Loss: 0.40982288122177124 Validation Accuracy: 0.6891999840736389\n",
      "Epoch 19, CIFAR-10 Batch 1:  Loss: 0.5187457799911499 Validation Accuracy: 0.6859999895095825\n",
      "Epoch 19, CIFAR-10 Batch 2:  Loss: 0.3775477707386017 Validation Accuracy: 0.6866000294685364\n",
      "Epoch 19, CIFAR-10 Batch 3:  Loss: 0.3557659089565277 Validation Accuracy: 0.6937999725341797\n",
      "Epoch 19, CIFAR-10 Batch 4:  Loss: 0.42068442702293396 Validation Accuracy: 0.694599986076355\n",
      "Epoch 19, CIFAR-10 Batch 5:  Loss: 0.38978081941604614 Validation Accuracy: 0.698199987411499\n",
      "Epoch 20, CIFAR-10 Batch 1:  Loss: 0.4787888526916504 Validation Accuracy: 0.6931999921798706\n",
      "Epoch 20, CIFAR-10 Batch 2:  Loss: 0.42362576723098755 Validation Accuracy: 0.6899999976158142\n",
      "Epoch 20, CIFAR-10 Batch 3:  Loss: 0.3807760775089264 Validation Accuracy: 0.6782000064849854\n",
      "Epoch 20, CIFAR-10 Batch 4:  Loss: 0.3836086094379425 Validation Accuracy: 0.6908000111579895\n",
      "Epoch 20, CIFAR-10 Batch 5:  Loss: 0.3312690854072571 Validation Accuracy: 0.6797999739646912\n"
     ]
    }
   ],
   "source": [
    "\"\"\"\n",
    "DON'T MODIFY ANYTHING IN THIS CELL\n",
    "\"\"\"\n",
    "save_model_path = './image_classification'\n",
    "\n",
    "print('Training...')\n",
    "with tf.Session() as sess:\n",
    "    # Initializing the variables\n",
    "    sess.run(tf.global_variables_initializer())\n",
    "    \n",
    "    # Training cycle\n",
    "    for epoch in range(epochs):\n",
    "        # Loop over all batches\n",
    "        n_batches = 5\n",
    "        for batch_i in range(1, n_batches + 1):\n",
    "            for batch_features, batch_labels in helper.load_preprocess_training_batch(batch_i, batch_size):\n",
    "                train_neural_network(sess, optimizer, keep_probability, batch_features, batch_labels)\n",
    "            print('Epoch {:>2}, CIFAR-10 Batch {}:  '.format(epoch + 1, batch_i), end='')\n",
    "            print_stats(sess, batch_features, batch_labels, cost, accuracy)\n",
    "            \n",
    "    # Save Model\n",
    "    saver = tf.train.Saver()\n",
    "    save_path = saver.save(sess, save_model_path)"
   ]
  },
  {
   "cell_type": "markdown",
   "metadata": {},
   "source": [
    "# Checkpoint\n",
    "The model has been saved to disk.\n",
    "## Test Model\n",
    "Test your model against the test dataset.  This will be your final accuracy. You should have an accuracy greater than 50%. If you don't, keep tweaking the model architecture and parameters."
   ]
  },
  {
   "cell_type": "code",
   "execution_count": 169,
   "metadata": {},
   "outputs": [
    {
     "name": "stdout",
     "output_type": "stream",
     "text": [
      "INFO:tensorflow:Restoring parameters from ./image_classification\n",
      "Testing Accuracy: 0.6792396496815286\n",
      "\n"
     ]
    },
    {
     "data": {
      "image/png": "[encoded data removed]",
      "text/plain": [
       "<matplotlib.figure.Figure at 0x27a025f82b0>"
      ]
     },
     "metadata": {
      "image/png": {
       "height": 319,
       "width": 355
      }
     },
     "output_type": "display_data"
    }
   ],
   "source": [
    "\"\"\"\n",
    "DON'T MODIFY ANYTHING IN THIS CELL\n",
    "\"\"\"\n",
    "%matplotlib inline\n",
    "%config InlineBackend.figure_format = 'retina'\n",
    "\n",
    "import tensorflow as tf\n",
    "import pickle\n",
    "import helper\n",
    "import random\n",
    "\n",
    "# Set batch size if not already set\n",
    "try:\n",
    "    if batch_size:\n",
    "        pass\n",
    "except NameError:\n",
    "    batch_size = 64\n",
    "\n",
    "save_model_path = './image_classification'\n",
    "n_samples = 4\n",
    "top_n_predictions = 3\n",
    "\n",
    "def test_model():\n",
    "    \"\"\"\n",
    "    Test the saved model against the test dataset\n",
    "    \"\"\"\n",
    "\n",
    "    test_features, test_labels = pickle.load(open('preprocess_test.p', mode='rb'))\n",
    "    loaded_graph = tf.Graph()\n",
    "\n",
    "    with tf.Session(graph=loaded_graph) as sess:\n",
    "        # Load model\n",
    "        loader = tf.train.import_meta_graph(save_model_path + '.meta')\n",
    "        loader.restore(sess, save_model_path)\n",
    "\n",
    "        # Get Tensors from loaded model\n",
    "        loaded_x = loaded_graph.get_tensor_by_name('x:0')\n",
    "        loaded_y = loaded_graph.get_tensor_by_name('y:0')\n",
    "        loaded_keep_prob = loaded_graph.get_tensor_by_name('keep_prob:0')\n",
    "        loaded_logits = loaded_graph.get_tensor_by_name('logits:0')\n",
    "        loaded_acc = loaded_graph.get_tensor_by_name('accuracy:0')\n",
    "        \n",
    "        # Get accuracy in batches for memory limitations\n",
    "        test_batch_acc_total = 0\n",
    "        test_batch_count = 0\n",
    "        \n",
    "        for test_feature_batch, test_label_batch in helper.batch_features_labels(test_features, test_labels, batch_size):\n",
    "            test_batch_acc_total += sess.run(\n",
    "                loaded_acc,\n",
    "                feed_dict={loaded_x: test_feature_batch, loaded_y: test_label_batch, loaded_keep_prob: 1.0})\n",
    "            test_batch_count += 1\n",
    "\n",
    "        print('Testing Accuracy: {}\\n'.format(test_batch_acc_total/test_batch_count))\n",
    "\n",
    "        # Print Random Samples\n",
    "        random_test_features, random_test_labels = tuple(zip(*random.sample(list(zip(test_features, test_labels)), n_samples)))\n",
    "        random_test_predictions = sess.run(\n",
    "            tf.nn.top_k(tf.nn.softmax(loaded_logits), top_n_predictions),\n",
    "            feed_dict={loaded_x: random_test_features, loaded_y: random_test_labels, loaded_keep_prob: 1.0})\n",
    "        helper.display_image_predictions(random_test_features, random_test_labels, random_test_predictions)\n",
    "\n",
    "\n",
    "test_model()"
   ]
  },
  {
   "cell_type": "markdown",
   "metadata": {},
   "source": [
    "## Why 50-80% Accuracy?\n",
    "You might be wondering why you can't get an accuracy any higher. First things first, 50% isn't bad for a simple CNN.  Pure guessing would get you 10% accuracy. However, you might notice people are getting scores [well above 80%](http://rodrigob.github.io/are_we_there_yet/build/classification_datasets_results.html#43494641522d3130).  That's because we haven't taught you all there is to know about neural networks. We still need to cover a few more techniques.\n",
    "## Submitting This Project\n",
    "When submitting this project, make sure to run all the cells before saving the notebook.  Save the notebook file as \"dlnd_image_classification.ipynb\" and save it as a HTML file under \"File\" -> \"Download as\".  Include the \"helper.py\" and \"problem_unittests.py\" files in your submission."
   ]
  }
 ],
 "metadata": {
  "kernelspec": {
   "display_name": "Python 3",
   "language": "python",
   "name": "python3"
  },
  "language_info": {
   "codemirror_mode": {
    "name": "ipython",
    "version": 3
   },
   "file_extension": ".py",
   "mimetype": "text/x-python",
   "name": "python",
   "nbconvert_exporter": "python",
   "pygments_lexer": "ipython3",
   "version": "3.6.2"
  }
 },
 "nbformat": 4,
 "nbformat_minor": 1
}
